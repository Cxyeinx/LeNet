{
 "cells": [
  {
   "cell_type": "code",
   "execution_count": 1,
   "id": "alternative-washington",
   "metadata": {},
   "outputs": [],
   "source": [
    "import tensorflow as tf\n",
    "from tensorflow.keras.layers import Conv2D, AveragePooling2D, Flatten, Dense, Dropout, BatchNormalization\n",
    "from tensorflow.keras.models import Sequential\n",
    "from tensorflow.nn import relu, softmax\n",
    "import tensorflow_datasets as tfds"
   ]
  },
  {
   "cell_type": "code",
   "execution_count": 2,
   "id": "interstate-camel",
   "metadata": {},
   "outputs": [],
   "source": [
    "train_gen, test_gen = tfds.load(\"HorsesOrHumans\", split=[\"train\", \"test\"])"
   ]
  },
  {
   "cell_type": "code",
   "execution_count": 3,
   "id": "random-teach",
   "metadata": {},
   "outputs": [],
   "source": [
    "def process(data):\n",
    "    x = tf.image.rgb_to_grayscale(data[\"image\"])\n",
    "    x = x / 255\n",
    "    x = tf.image.resize(x, (32,32))\n",
    "    return x, data[\"label\"]"
   ]
  },
  {
   "cell_type": "code",
   "execution_count": 4,
   "id": "pressing-spencer",
   "metadata": {},
   "outputs": [],
   "source": [
    "train, test = train_gen.map(process).batch(10), test_gen.map(process).batch(10)"
   ]
  },
  {
   "cell_type": "code",
   "execution_count": 5,
   "id": "handed-council",
   "metadata": {},
   "outputs": [],
   "source": [
    "model = Sequential()\n",
    "model.add(Conv2D(filters=6, kernel_size=(5,5), strides=(1,1), input_shape=(32,32,1), activation=relu))\n",
    "model.add(BatchNormalization())\n",
    "model.add(AveragePooling2D(pool_size=(2,2), strides=(2,2)))\n",
    "\n",
    "model.add(Conv2D(filters=16, kernel_size=(5,5), strides=(1,1), activation=relu))\n",
    "model.add(BatchNormalization())\n",
    "model.add(AveragePooling2D(pool_size=(2,2), strides=(2,2)))\n",
    "\n",
    "model.add(Flatten())\n",
    "\n",
    "model.add(Dense(120, activation=relu))\n",
    "model.add(BatchNormalization())\n",
    "model.add(Dropout(0.2))\n",
    "\n",
    "model.add(Dense(84, activation=relu))\n",
    "model.add(BatchNormalization())\n",
    "\n",
    "model.add(Dense(2, activation=softmax))\n",
    "\n",
    "model.compile(loss=\"sparse_categorical_crossentropy\", optimizer=\"adam\", metrics=[\"accuracy\"])"
   ]
  },
  {
   "cell_type": "code",
   "execution_count": 6,
   "id": "corrected-thread",
   "metadata": {},
   "outputs": [
    {
     "name": "stdout",
     "output_type": "stream",
     "text": [
      "Epoch 1/10\n",
      "103/103 [==============================] - 3s 27ms/step - loss: 0.5018 - accuracy: 0.7478 - val_loss: 0.5135 - val_accuracy: 0.9492\n",
      "Epoch 2/10\n",
      "103/103 [==============================] - 2s 16ms/step - loss: 0.2448 - accuracy: 0.8958 - val_loss: 0.3205 - val_accuracy: 0.9219\n",
      "Epoch 3/10\n",
      "103/103 [==============================] - 2s 16ms/step - loss: 0.1786 - accuracy: 0.9299 - val_loss: 0.1836 - val_accuracy: 0.9453\n",
      "Epoch 4/10\n",
      "103/103 [==============================] - 2s 15ms/step - loss: 0.1078 - accuracy: 0.9640 - val_loss: 0.2121 - val_accuracy: 0.9297\n",
      "Epoch 5/10\n",
      "103/103 [==============================] - 2s 16ms/step - loss: 0.0794 - accuracy: 0.9737 - val_loss: 0.1905 - val_accuracy: 0.9570\n",
      "Epoch 6/10\n",
      "103/103 [==============================] - 2s 17ms/step - loss: 0.0687 - accuracy: 0.9747 - val_loss: 0.2652 - val_accuracy: 0.9531\n",
      "Epoch 7/10\n",
      "103/103 [==============================] - 2s 17ms/step - loss: 0.0622 - accuracy: 0.9786 - val_loss: 0.6209 - val_accuracy: 0.9141\n",
      "Epoch 8/10\n",
      "103/103 [==============================] - 2s 16ms/step - loss: 0.0278 - accuracy: 0.9942 - val_loss: 0.4631 - val_accuracy: 0.9336\n",
      "Epoch 9/10\n",
      "103/103 [==============================] - 2s 17ms/step - loss: 0.0304 - accuracy: 0.9903 - val_loss: 0.4306 - val_accuracy: 0.9297\n",
      "Epoch 10/10\n",
      "103/103 [==============================] - 2s 16ms/step - loss: 0.0275 - accuracy: 0.9912 - val_loss: 0.9090 - val_accuracy: 0.8984\n"
     ]
    },
    {
     "data": {
      "text/plain": [
       "<tensorflow.python.keras.callbacks.History at 0x7fd460306670>"
      ]
     },
     "execution_count": 6,
     "metadata": {},
     "output_type": "execute_result"
    }
   ],
   "source": [
    "model.fit(train, epochs=10, batch_size=32, validation_data=test)"
   ]
  },
  {
   "cell_type": "code",
   "execution_count": 7,
   "id": "sustainable-pacific",
   "metadata": {},
   "outputs": [
    {
     "name": "stdout",
     "output_type": "stream",
     "text": [
      "Model: \"sequential\"\n",
      "_________________________________________________________________\n",
      "Layer (type)                 Output Shape              Param #   \n",
      "=================================================================\n",
      "conv2d (Conv2D)              (None, 28, 28, 6)         156       \n",
      "_________________________________________________________________\n",
      "batch_normalization (BatchNo (None, 28, 28, 6)         24        \n",
      "_________________________________________________________________\n",
      "average_pooling2d (AveragePo (None, 14, 14, 6)         0         \n",
      "_________________________________________________________________\n",
      "conv2d_1 (Conv2D)            (None, 10, 10, 16)        2416      \n",
      "_________________________________________________________________\n",
      "batch_normalization_1 (Batch (None, 10, 10, 16)        64        \n",
      "_________________________________________________________________\n",
      "average_pooling2d_1 (Average (None, 5, 5, 16)          0         \n",
      "_________________________________________________________________\n",
      "flatten (Flatten)            (None, 400)               0         \n",
      "_________________________________________________________________\n",
      "dense (Dense)                (None, 120)               48120     \n",
      "_________________________________________________________________\n",
      "batch_normalization_2 (Batch (None, 120)               480       \n",
      "_________________________________________________________________\n",
      "dropout (Dropout)            (None, 120)               0         \n",
      "_________________________________________________________________\n",
      "dense_1 (Dense)              (None, 84)                10164     \n",
      "_________________________________________________________________\n",
      "batch_normalization_3 (Batch (None, 84)                336       \n",
      "_________________________________________________________________\n",
      "dense_2 (Dense)              (None, 2)                 170       \n",
      "=================================================================\n",
      "Total params: 61,930\n",
      "Trainable params: 61,478\n",
      "Non-trainable params: 452\n",
      "_________________________________________________________________\n"
     ]
    }
   ],
   "source": [
    "model.summary()"
   ]
  },
  {
   "cell_type": "code",
   "execution_count": null,
   "id": "significant-mileage",
   "metadata": {},
   "outputs": [],
   "source": []
  }
 ],
 "metadata": {
  "kernelspec": {
   "display_name": "Python 3",
   "language": "python",
   "name": "python3"
  },
  "language_info": {
   "codemirror_mode": {
    "name": "ipython",
    "version": 3
   },
   "file_extension": ".py",
   "mimetype": "text/x-python",
   "name": "python",
   "nbconvert_exporter": "python",
   "pygments_lexer": "ipython3",
   "version": "3.8.5"
  }
 },
 "nbformat": 4,
 "nbformat_minor": 5
}
